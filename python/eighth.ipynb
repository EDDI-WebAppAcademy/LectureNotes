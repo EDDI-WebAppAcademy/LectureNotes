{
 "cells": [
  {
   "cell_type": "code",
   "execution_count": 1,
   "id": "33a1d8af",
   "metadata": {},
   "outputs": [],
   "source": [
    "from flask import Flask, url_for, request, jsonify\n",
    "from flask_cors import CORS, cross_origin\n",
    "\n",
    "import json\n",
    "import requests\n",
    "\n",
    "import selenium\n",
    "from selenium import webdriver\n",
    "from selenium.webdriver.common.keys import Keys\n",
    "\n",
    "import threading\n",
    "import time\n",
    "import logging\n",
    "\n",
    "import pickle"
   ]
  },
  {
   "cell_type": "code",
   "execution_count": 2,
   "id": "ea299e48",
   "metadata": {},
   "outputs": [],
   "source": [
    "CRAWLED_RES_SAVED_FILE = \"crawl_data/result\""
   ]
  },
  {
   "cell_type": "code",
   "execution_count": 3,
   "id": "6c6a1430",
   "metadata": {},
   "outputs": [],
   "source": [
    "def record_thread(cond):\n",
    "    print(\"기록\")\n",
    "    cnt = 0\n",
    "    \n",
    "    while True:\n",
    "        if crawl_fin:\n",
    "            f = open(CRAWLED_RES_SAVED_FILE, 'wb')\n",
    "            pickle.dump(hrefURL, f)\n",
    "            f.close()\n",
    "            \n",
    "        time.sleep(1)"
   ]
  },
  {
   "cell_type": "code",
   "execution_count": 4,
   "id": "d4292796",
   "metadata": {},
   "outputs": [],
   "source": [
    "def thread_manager(cond):\n",
    "    print(\"관리\")\n",
    "    crwawl_fin = False\n",
    "    \n",
    "    while True:\n",
    "        with cond:\n",
    "            if crawl_fin:\n",
    "                cond.notifyAll()\n",
    "                \n",
    "            time.sleep(1)"
   ]
  },
  {
   "cell_type": "code",
   "execution_count": null,
   "id": "46459ce4",
   "metadata": {},
   "outputs": [],
   "source": [
    "def crawl_thread(cond, text):\n",
    "    global crawl_fin\n",
    "    crawl_find = False\n",
    "    \n",
    "    print(\"크롤링\")\n",
    "    url = \"https://www.youtube.com/results?search_query=\"\n",
    "    \n",
    "    driver = webdriver.Chrome(r\"C:\\chromedriver.exe\")\n",
    "    \n",
    "    search_url = url + text\n",
    "    \n",
    "    driver.get(url = search_url)\n",
    "    \n",
    "    while True:\n",
    "        with cond:\n",
    "            body = driver.find_element_by_tag_name('body')"
   ]
  },
  {
   "cell_type": "code",
   "execution_count": 6,
   "id": "358452dd",
   "metadata": {},
   "outputs": [
    {
     "name": "stderr",
     "output_type": "stream",
     "text": [
      "C:\\Users\\user2\\AppData\\Local\\Temp\\ipykernel_5744\\2208012063.py:5: DeprecationWarning: executable_path has been deprecated, please pass in a Service object\n",
      "  driver = webdriver.Chrome(r\"C:\\chromedriver.exe\")\n"
     ]
    }
   ],
   "source": [
    "# Chrome 드라이버 버전 확인\n",
    "text = \"시고르자브종\"\n",
    "url = \"https://www.youtube.com/results?search_query=\"\n",
    "search_url = url + text\n",
    "driver = webdriver.Chrome(r\"C:\\chromedriver.exe\")\n",
    "driver.get(url = search_url)"
   ]
  },
  {
   "cell_type": "code",
   "execution_count": null,
   "id": "a66c6f21",
   "metadata": {},
   "outputs": [],
   "source": []
  }
 ],
 "metadata": {
  "kernelspec": {
   "display_name": "Python 3 (ipykernel)",
   "language": "python",
   "name": "python3"
  },
  "language_info": {
   "codemirror_mode": {
    "name": "ipython",
    "version": 3
   },
   "file_extension": ".py",
   "mimetype": "text/x-python",
   "name": "python",
   "nbconvert_exporter": "python",
   "pygments_lexer": "ipython3",
   "version": "3.9.12"
  }
 },
 "nbformat": 4,
 "nbformat_minor": 5
}

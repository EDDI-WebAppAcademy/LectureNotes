{
 "cells": [
  {
   "cell_type": "code",
   "execution_count": 1,
   "id": "1f804611",
   "metadata": {},
   "outputs": [
    {
     "name": "stdout",
     "output_type": "stream",
     "text": [
      "안녕, 난 파이썬이야\n"
     ]
    }
   ],
   "source": [
    "print(\"안녕, 난 파이썬이야\")"
   ]
  },
  {
   "cell_type": "code",
   "execution_count": 2,
   "id": "0d467127",
   "metadata": {},
   "outputs": [
    {
     "name": "stdout",
     "output_type": "stream",
     "text": [
      "2 7\n"
     ]
    }
   ],
   "source": [
    "num = 2\n",
    "Num = 7\n",
    "\n",
    "print(num, Num)"
   ]
  },
  {
   "cell_type": "code",
   "execution_count": 3,
   "id": "5b0313e2",
   "metadata": {},
   "outputs": [
    {
     "name": "stdout",
     "output_type": "stream",
     "text": [
      "<class 'complex'>\n",
      "4.0\n",
      "3.0\n",
      "(3-4j)\n"
     ]
    }
   ],
   "source": [
    "z = 3 + 4j\n",
    "\n",
    "print(type(z))\n",
    "print(z.imag)\n",
    "print(z.real)\n",
    "print(z.conjugate())"
   ]
  },
  {
   "cell_type": "code",
   "execution_count": 4,
   "id": "ba285ad5",
   "metadata": {},
   "outputs": [
    {
     "name": "stdout",
     "output_type": "stream",
     "text": [
      "1.2e+30 1.57e-20 1024\n"
     ]
    }
   ],
   "source": [
    "num1 = 1.2e30\n",
    "num2 = 1.57e-20\n",
    "num3 = 2 ** 10\n",
    "\n",
    "# 여기서 e는 오일러 상수(exponential 이 아니며 10^n을 의미함)\n",
    "print(num1, num2, num3)"
   ]
  },
  {
   "cell_type": "code",
   "execution_count": 5,
   "id": "e1438d6f",
   "metadata": {},
   "outputs": [
    {
     "name": "stdout",
     "output_type": "stream",
     "text": [
      "0 333 0.42857142857142855\n"
     ]
    }
   ],
   "source": [
    "num4 = 3 // 7\n",
    "num5 = 3333 // 10\n",
    "num6 = 3 / 7\n",
    "\n",
    "# // 은 나눗셈이 아닌 몫만 구하는 연산이다.\n",
    "print(num4, num5, num6)"
   ]
  },
  {
   "cell_type": "code",
   "execution_count": 7,
   "id": "45eba8c6",
   "metadata": {},
   "outputs": [
    {
     "name": "stdout",
     "output_type": "stream",
     "text": [
      "\n",
      "            영원히 살고 순간에 살아라!\n",
      "            영원히 살 것처럼 일하고\n",
      "            금방 죽을 것처럼 사람들을 대하라!\n",
      "                    - 리히텐베르크\n",
      "\n"
     ]
    }
   ],
   "source": [
    "fixStr = \"\"\"\n",
    "            영원히 살고 순간에 살아라!\n",
    "            영원히 살 것처럼 일하고\n",
    "            금방 죽을 것처럼 사람들을 대하라!\n",
    "                    - 리히텐베르크\n",
    "\"\"\"\n",
    "\n",
    "print(fixStr)"
   ]
  },
  {
   "cell_type": "code",
   "execution_count": 8,
   "id": "ef798206",
   "metadata": {},
   "outputs": [
    {
     "name": "stdout",
     "output_type": "stream",
     "text": [
      "test python\n"
     ]
    }
   ],
   "source": [
    "testStr = 'test' + ' python'\n",
    "print(testStr)"
   ]
  },
  {
   "cell_type": "code",
   "execution_count": 19,
   "id": "bd2772c3",
   "metadata": {},
   "outputs": [
    {
     "name": "stdout",
     "output_type": "stream",
     "text": [
      "pointer\n"
     ]
    }
   ],
   "source": [
    "str = \"pointer\"\n",
    "\n",
    "print(str)"
   ]
  },
  {
   "cell_type": "code",
   "execution_count": 11,
   "id": "42465cbe",
   "metadata": {},
   "outputs": [
    {
     "name": "stdout",
     "output_type": "stream",
     "text": [
      "p\n"
     ]
    }
   ],
   "source": [
    "str = \"pointer\"\n",
    "\n",
    "print(str[0])"
   ]
  },
  {
   "cell_type": "code",
   "execution_count": 12,
   "id": "755c8c56",
   "metadata": {},
   "outputs": [
    {
     "name": "stdout",
     "output_type": "stream",
     "text": [
      "n\n"
     ]
    }
   ],
   "source": [
    "str = \"pointer\"\n",
    "\n",
    "print(str[3])"
   ]
  },
  {
   "cell_type": "code",
   "execution_count": 13,
   "id": "f4e7ec3d",
   "metadata": {},
   "outputs": [
    {
     "name": "stdout",
     "output_type": "stream",
     "text": [
      "p\n"
     ]
    }
   ],
   "source": [
    "str = \"pointer\"\n",
    "\n",
    "print(str[0:1])"
   ]
  },
  {
   "cell_type": "code",
   "execution_count": 14,
   "id": "f4c59db7",
   "metadata": {},
   "outputs": [
    {
     "name": "stdout",
     "output_type": "stream",
     "text": [
      "oin\n"
     ]
    }
   ],
   "source": [
    "str = \"pointer\"\n",
    "\n",
    "print(str[1:4])"
   ]
  },
  {
   "cell_type": "code",
   "execution_count": 15,
   "id": "44490208",
   "metadata": {},
   "outputs": [
    {
     "name": "stdout",
     "output_type": "stream",
     "text": [
      "po\n"
     ]
    }
   ],
   "source": [
    "str = \"pointer\"\n",
    "\n",
    "print(str[:2])"
   ]
  },
  {
   "cell_type": "code",
   "execution_count": 16,
   "id": "17d424ca",
   "metadata": {},
   "outputs": [
    {
     "name": "stdout",
     "output_type": "stream",
     "text": [
      "er\n"
     ]
    }
   ],
   "source": [
    "str = \"pointer\"\n",
    "\n",
    "print(str[-2:])"
   ]
  },
  {
   "cell_type": "code",
   "execution_count": 17,
   "id": "19c74540",
   "metadata": {},
   "outputs": [
    {
     "name": "stdout",
     "output_type": "stream",
     "text": [
      "pointer\n"
     ]
    }
   ],
   "source": [
    "str = \"pointer\"\n",
    "\n",
    "print(str[:])"
   ]
  },
  {
   "cell_type": "code",
   "execution_count": 18,
   "id": "364b575c",
   "metadata": {},
   "outputs": [
    {
     "name": "stdout",
     "output_type": "stream",
     "text": [
      "pitr\n"
     ]
    }
   ],
   "source": [
    "str = \"pointer\"\n",
    "\n",
    "print(str[::2])"
   ]
  },
  {
   "cell_type": "code",
   "execution_count": null,
   "id": "51c34805",
   "metadata": {},
   "outputs": [],
   "source": []
  }
 ],
 "metadata": {
  "kernelspec": {
   "display_name": "Python 3 (ipykernel)",
   "language": "python",
   "name": "python3"
  },
  "language_info": {
   "codemirror_mode": {
    "name": "ipython",
    "version": 3
   },
   "file_extension": ".py",
   "mimetype": "text/x-python",
   "name": "python",
   "nbconvert_exporter": "python",
   "pygments_lexer": "ipython3",
   "version": "3.9.12"
  }
 },
 "nbformat": 4,
 "nbformat_minor": 5
}

{
 "cells": [
  {
   "cell_type": "code",
   "execution_count": 1,
   "id": "d9fdf9cd",
   "metadata": {},
   "outputs": [],
   "source": [
    "# 전체 지도가 8, 8 형태의 행렬을 이룬다.\n",
    "# 이중에서 랜덤하게 (x, y) 형태의 좌표에 사용자가 배치되도록 구성한다.\n",
    "# 마찬가지로 랜덤한 (j, k) 좌표들에 랠리 포인트를 지정한다.\n",
    "# 랜덤하게 할당된 내 위치에서 가장 먼 곳에 있는 랠리 포인트의 좌표와\n",
    "# 가장 가까운 곳의 좌표를 구할 수 있는 프로그램을 작성하세요."
   ]
  },
  {
   "cell_type": "code",
   "execution_count": 4,
   "id": "632774eb",
   "metadata": {},
   "outputs": [],
   "source": [
    "from random import *\n",
    "\n",
    "def get_random(min, max):\n",
    "    return randint(min, max)"
   ]
  },
  {
   "cell_type": "code",
   "execution_count": 44,
   "id": "ef2bf30a",
   "metadata": {},
   "outputs": [
    {
     "name": "stdout",
     "output_type": "stream",
     "text": [
      "(1.4142135623730951, 7.0)\n",
      "{'_MapManager__map_arr': [[0, 0, 0, 0, 0, 0, 0, 0], [0, 0, 0, 0, 0, 0, 0, 0], [0, 0, 0, 0, 0, 0, 0, 0], [0, 0, 0, 0, 0, 0, 0, 0], [0, 0, 0, 0, 0, 0, 0, 0], [0, 0, 0, 0, 0, 0, 0, 0], [0, 0, 0, 0, 0, 0, 0, 0], [0, 0, 0, 0, 0, 0, 0, 0]], '_MapManager__user_location': (1, 7), '_MapManager__exist_rally_point_num': 5, '_MapManager__rally_list': [(3, 6), (1, 0), (2, 6), (4, 4), (0, 2)], '_MapManager__rally_point_distance': [1.4142135623730951, 2.23606797749979, 4.242640687119285, 5.0990195135927845, 7.0]}\n"
     ]
    }
   ],
   "source": [
    "import math\n",
    "\n",
    "# 맵 생성\n",
    "class MapManager:\n",
    "    \n",
    "    def __init__(self):\n",
    "        self.__map_arr = [[0 for col in range(8)] for row in range(8)]\n",
    "        self.__user_location = (get_random(0, 7), get_random(0, 7))\n",
    "        self.__exist_rally_point_num = get_random(5, 8)\n",
    "        self.__rally_list = []\n",
    "        self.__rally_point_distance = []\n",
    "        \n",
    "    def find_rally_point(self):\n",
    "        for i in range(self.__exist_rally_point_num):\n",
    "            self.__rally_list.append((get_random(0, 7), get_random(0, 7)))\n",
    "            \n",
    "    def check_rally_point_distance(self):\n",
    "        for i in range(self.__exist_rally_point_num):\n",
    "            self.__rally_point_distance.append(\n",
    "                # a^2 + b^2 = c^2 -> 피타고라스 정리\n",
    "                math.sqrt(\n",
    "                    math.pow(self.__user_location[0] - self.__rally_list[i][0], 2) +\n",
    "                    math.pow(self.__user_location[1] - self.__rally_list[i][1], 2)\n",
    "                )\n",
    "            )\n",
    "            \n",
    "        self.__rally_point_distance.sort()\n",
    "        \n",
    "        return self.__rally_point_distance[0], self.__rally_point_distance[self.__exist_rally_point_num - 1]\n",
    "\n",
    "test_map = MapManager()\n",
    "test_map.find_rally_point()\n",
    "print(test_map.check_rally_point_distance())\n",
    "\n",
    "print(test_map.__dict__)"
   ]
  },
  {
   "cell_type": "code",
   "execution_count": null,
   "id": "81cd98ff",
   "metadata": {},
   "outputs": [],
   "source": []
  }
 ],
 "metadata": {
  "kernelspec": {
   "display_name": "Python 3 (ipykernel)",
   "language": "python",
   "name": "python3"
  },
  "language_info": {
   "codemirror_mode": {
    "name": "ipython",
    "version": 3
   },
   "file_extension": ".py",
   "mimetype": "text/x-python",
   "name": "python",
   "nbconvert_exporter": "python",
   "pygments_lexer": "ipython3",
   "version": "3.9.12"
  }
 },
 "nbformat": 4,
 "nbformat_minor": 5
}

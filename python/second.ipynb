{
 "cells": [
  {
   "cell_type": "code",
   "execution_count": 1,
   "id": "ad22ea44",
   "metadata": {},
   "outputs": [
    {
     "name": "stdout",
     "output_type": "stream",
     "text": [
      "변수값이 5보다 크다면 출력\n",
      "이건 왜 되고\n",
      "apple\n"
     ]
    }
   ],
   "source": [
    "val = 10\n",
    "\n",
    "if val > 5:\n",
    "    print(\"변수값이 5보다 크다면 출력\")\n",
    "    \n",
    "money = 10\n",
    "\n",
    "if money < 100:\n",
    "    item = \"apple\"\n",
    "else:\n",
    "    item = \"banana\"\n",
    "    print(\"이건 왜 안되고\")\n",
    "print(\"이건 왜 되고\")\n",
    "    \n",
    "print(item)"
   ]
  },
  {
   "cell_type": "code",
   "execution_count": 2,
   "id": "f306152d",
   "metadata": {},
   "outputs": [
    {
     "name": "stdout",
     "output_type": "stream",
     "text": [
      "점수 입력: 98\n",
      "등급: A\n"
     ]
    }
   ],
   "source": [
    "score = int(input(('점수 입력: ')))\n",
    "\n",
    "if 80 <= score < 90:\n",
    "    grade = \"B\"\n",
    "elif 90 <= score <= 100:\n",
    "    grade = \"A\"\n",
    "elif 70 <= score < 80:\n",
    "    grade = \"C\"\n",
    "elif 60 <= score < 70:\n",
    "    grade = \"D\"\n",
    "else:\n",
    "    grade = \"F\"\n",
    "    \n",
    "print(\"등급: \" + grade)"
   ]
  },
  {
   "cell_type": "code",
   "execution_count": 3,
   "id": "9219cfa7",
   "metadata": {},
   "outputs": [
    {
     "name": "stdout",
     "output_type": "stream",
     "text": [
      "5\n",
      "4\n",
      "3\n",
      "2\n",
      "1\n"
     ]
    }
   ],
   "source": [
    "val = 5\n",
    "while val > 0:\n",
    "    print(val)\n",
    "    val -= 1"
   ]
  },
  {
   "cell_type": "code",
   "execution_count": 4,
   "id": "857417c8",
   "metadata": {},
   "outputs": [
    {
     "name": "stdout",
     "output_type": "stream",
     "text": [
      "Apple <class 'str'>\n",
      "100 <class 'int'>\n",
      "15.33 <class 'float'>\n"
     ]
    }
   ],
   "source": [
    "lists = ['Apple', 100, 15.33]\n",
    "for i in lists:\n",
    "    print(i, type(i))"
   ]
  },
  {
   "cell_type": "code",
   "execution_count": 5,
   "id": "bec5519f",
   "metadata": {},
   "outputs": [
    {
     "name": "stdout",
     "output_type": "stream",
     "text": [
      "Apple 100\n",
      "Orange 200\n",
      "Banana 300\n"
     ]
    }
   ],
   "source": [
    "d = {\"Apple\": 100, \"Orange\": 200, \"Banana\": 300}\n",
    "for k, v in d.items():\n",
    "    print(k, v)"
   ]
  },
  {
   "cell_type": "code",
   "execution_count": 6,
   "id": "7e032d86",
   "metadata": {},
   "outputs": [
    {
     "name": "stdout",
     "output_type": "stream",
     "text": [
      "1\n",
      "2\n",
      "3\n",
      "4\n",
      "5\n",
      "6\n",
      "7\n",
      "8\n",
      "9\n",
      "10\n"
     ]
    }
   ],
   "source": [
    "for i in range(1, 11):\n",
    "    print(i)"
   ]
  },
  {
   "cell_type": "code",
   "execution_count": 7,
   "id": "16f517c9",
   "metadata": {},
   "outputs": [
    {
     "name": "stdout",
     "output_type": "stream",
     "text": [
      "item: 1\n",
      "item: 2\n",
      "item: 3\n",
      "item: 4\n",
      "item: 5\n"
     ]
    }
   ],
   "source": [
    "numList = range(1, 11)\n",
    "\n",
    "for i in numList:\n",
    "    if i > 5:\n",
    "        break;\n",
    "    print(\"item: {0}\".format(i))"
   ]
  },
  {
   "cell_type": "code",
   "execution_count": 8,
   "id": "8480da9b",
   "metadata": {},
   "outputs": [
    {
     "name": "stdout",
     "output_type": "stream",
     "text": [
      "item: 1\n",
      "item: 3\n",
      "item: 5\n",
      "item: 7\n",
      "item: 9\n"
     ]
    }
   ],
   "source": [
    "# ㅃㄷㄱㄹ\n",
    "for i in numList:\n",
    "    if i % 2 == 0:\n",
    "        continue;\n",
    "        \n",
    "    print(\"item: {0}\".format(i))"
   ]
  },
  {
   "cell_type": "code",
   "execution_count": 9,
   "id": "7126efb8",
   "metadata": {},
   "outputs": [
    {
     "name": "stdout",
     "output_type": "stream",
     "text": [
      "range(0, 10)\n"
     ]
    }
   ],
   "source": [
    "print(range(10))"
   ]
  },
  {
   "cell_type": "code",
   "execution_count": 10,
   "id": "561c91ed",
   "metadata": {},
   "outputs": [
    {
     "name": "stdout",
     "output_type": "stream",
     "text": [
      "[0, 1, 2, 3, 4, 5, 6, 7, 8, 9]\n"
     ]
    }
   ],
   "source": [
    "print(list(range(10)))"
   ]
  },
  {
   "cell_type": "code",
   "execution_count": 11,
   "id": "f06e46df",
   "metadata": {},
   "outputs": [
    {
     "name": "stdout",
     "output_type": "stream",
     "text": [
      "[5, 6, 7, 8, 9]\n"
     ]
    }
   ],
   "source": [
    "print(list(range(5, 10)))"
   ]
  },
  {
   "cell_type": "code",
   "execution_count": 12,
   "id": "58538284",
   "metadata": {},
   "outputs": [
    {
     "name": "stdout",
     "output_type": "stream",
     "text": [
      "[10, 9, 8, 7, 6, 5, 4, 3, 2, 1]\n"
     ]
    }
   ],
   "source": [
    "print(list(range(10, 0, -1)))"
   ]
  },
  {
   "cell_type": "code",
   "execution_count": 13,
   "id": "59c8d55f",
   "metadata": {},
   "outputs": [
    {
     "name": "stdout",
     "output_type": "stream",
     "text": [
      "[10, 12, 14, 16, 18]\n"
     ]
    }
   ],
   "source": [
    "print(list(range(10, 20, 2)))"
   ]
  },
  {
   "cell_type": "code",
   "execution_count": 16,
   "id": "2fe9fc2e",
   "metadata": {},
   "outputs": [
    {
     "name": "stdout",
     "output_type": "stream",
     "text": [
      "idx: 0, val: Grape\n",
      "idx: 1, val: 100\n",
      "idx: 2, val: 33.7\n",
      "idx: 3, val: Apple\n"
     ]
    }
   ],
   "source": [
    "varList = [\"Grape\", 100, 33.7, \"Apple\"]\n",
    "\n",
    "for i in range(len(varList)):\n",
    "    print(\"idx: {0}, val: {1}\".format(i, varList[i]))"
   ]
  },
  {
   "cell_type": "code",
   "execution_count": 18,
   "id": "e32f6520",
   "metadata": {},
   "outputs": [
    {
     "name": "stdout",
     "output_type": "stream",
     "text": [
      "range(1, 11)\n"
     ]
    }
   ],
   "source": [
    "print(numList)"
   ]
  },
  {
   "cell_type": "code",
   "execution_count": 19,
   "id": "5cd72ed9",
   "metadata": {},
   "outputs": [
    {
     "name": "stdout",
     "output_type": "stream",
     "text": [
      "[1, 4, 9, 16, 25, 36, 49, 64, 81, 100]\n"
     ]
    }
   ],
   "source": [
    "print([i ** 2 for i in numList])"
   ]
  },
  {
   "cell_type": "code",
   "execution_count": 20,
   "id": "47e7b199",
   "metadata": {},
   "outputs": [
    {
     "name": "stdout",
     "output_type": "stream",
     "text": [
      "[5, 6, 5]\n"
     ]
    }
   ],
   "source": [
    "strList = (\"apple\", \"banana\", \"grape\")\n",
    "\n",
    "print([len(i) for i in strList])"
   ]
  },
  {
   "cell_type": "code",
   "execution_count": 21,
   "id": "60f00a68",
   "metadata": {},
   "outputs": [
    {
     "name": "stdout",
     "output_type": "stream",
     "text": [
      "['banana']\n"
     ]
    }
   ],
   "source": [
    "strList = (\"apple\", \"banana\", \"grape\", \"kiwi\")\n",
    "\n",
    "print([i for i in strList if len(i) > 5])"
   ]
  },
  {
   "cell_type": "code",
   "execution_count": 22,
   "id": "25af315c",
   "metadata": {},
   "outputs": [
    {
     "name": "stdout",
     "output_type": "stream",
     "text": [
      "item: 10\n",
      "item: 25\n",
      "item: 30\n",
      "item: 35\n"
     ]
    }
   ],
   "source": [
    "numList = [10, 25, 30, 35]\n",
    "for i in filter(None, numList):\n",
    "    print(\"item: {0}\".format(i))"
   ]
  },
  {
   "cell_type": "code",
   "execution_count": 23,
   "id": "1391db43",
   "metadata": {},
   "outputs": [
    {
     "name": "stdout",
     "output_type": "stream",
     "text": [
      "item: 25\n",
      "item: 30\n",
      "item: 35\n"
     ]
    }
   ],
   "source": [
    "def GetBiggerThan20(i):\n",
    "    return i > 20\n",
    "\n",
    "for i in filter(GetBiggerThan20, numList):\n",
    "    print(\"item: {0}\".format(i))"
   ]
  },
  {
   "cell_type": "code",
   "execution_count": 24,
   "id": "69941422",
   "metadata": {},
   "outputs": [
    {
     "name": "stdout",
     "output_type": "stream",
     "text": [
      "item: 25\n",
      "item: 30\n",
      "item: 35\n"
     ]
    }
   ],
   "source": [
    "for i in filter(lambda i: i > 20, numList):\n",
    "    print(\"item: {0}\".format(i))"
   ]
  },
  {
   "cell_type": "code",
   "execution_count": 25,
   "id": "f330efa2",
   "metadata": {},
   "outputs": [
    {
     "name": "stdout",
     "output_type": "stream",
     "text": [
      "item: 20\n",
      "item: 35\n",
      "item: 40\n",
      "item: 45\n"
     ]
    }
   ],
   "source": [
    "def Add10(i):\n",
    "    return i + 10\n",
    "\n",
    "for i in map(Add10, numList):\n",
    "    print(\"item: {0}\".format(i))"
   ]
  },
  {
   "cell_type": "code",
   "execution_count": 26,
   "id": "c04eff12",
   "metadata": {},
   "outputs": [
    {
     "name": "stdout",
     "output_type": "stream",
     "text": [
      "item: 20\n",
      "item: 35\n",
      "item: 40\n",
      "item: 45\n"
     ]
    }
   ],
   "source": [
    "for i in map((lambda i: i + 10), numList):\n",
    "    print(\"item: {0}\".format(i))"
   ]
  },
  {
   "cell_type": "code",
   "execution_count": 27,
   "id": "6b3b95c7",
   "metadata": {},
   "outputs": [
    {
     "name": "stdout",
     "output_type": "stream",
     "text": [
      "<function times at 0x000001BF3D2201F0>\n",
      "100\n"
     ]
    }
   ],
   "source": [
    "def times(a, b):\n",
    "    return a * b\n",
    "\n",
    "print(times)\n",
    "print(times(10, 10))"
   ]
  },
  {
   "cell_type": "code",
   "execution_count": 28,
   "id": "3b4553c8",
   "metadata": {},
   "outputs": [
    {
     "name": "stdout",
     "output_type": "stream",
     "text": [
      "100\n"
     ]
    }
   ],
   "source": [
    "pointerOfFunction = times\n",
    "res = pointerOfFunction(10, 10)\n",
    "print(res)"
   ]
  },
  {
   "cell_type": "code",
   "execution_count": 29,
   "id": "c9f96752",
   "metadata": {},
   "outputs": [],
   "source": [
    "# buy = game_item_buy\n",
    "# buy()\n",
    "\n",
    "# buy = google_play_buy\n",
    "# buy()"
   ]
  },
  {
   "cell_type": "code",
   "execution_count": 30,
   "id": "8276a5e3",
   "metadata": {},
   "outputs": [
    {
     "name": "stdout",
     "output_type": "stream",
     "text": [
      "[]\n",
      "['A']\n"
     ]
    }
   ],
   "source": [
    "def intersect(prelist, postlist):\n",
    "    retList = []\n",
    "    \n",
    "    for x in prelist:\n",
    "        if x in postlist:\n",
    "            retList.append(x)\n",
    "            \n",
    "    return retList\n",
    "\n",
    "listA = \"Apple\"\n",
    "listB = \"onion\"\n",
    "\n",
    "print(intersect(listA, listB))\n",
    "print(intersect(listA, ['H', 'A', 'M']))"
   ]
  },
  {
   "cell_type": "code",
   "execution_count": 32,
   "id": "b45a5aca",
   "metadata": {},
   "outputs": [
    {
     "name": "stdout",
     "output_type": "stream",
     "text": [
      "(7, 3, 33.7)\n"
     ]
    }
   ],
   "source": [
    "def swap(x, y):\n",
    "    return y, x, 33.7\n",
    "\n",
    "print(swap(3, 7))"
   ]
  },
  {
   "cell_type": "code",
   "execution_count": 34,
   "id": "389f0f31",
   "metadata": {},
   "outputs": [
    {
     "name": "stdout",
     "output_type": "stream",
     "text": [
      "1\n",
      "10\n",
      "7\n"
     ]
    }
   ],
   "source": [
    "glob = 1\n",
    "\n",
    "#exchange\n",
    "def xchgScope(x):\n",
    "    global glob\n",
    "    glob = 7\n",
    "    return glob + x\n",
    "\n",
    "print(glob)\n",
    "print(xchgScope(3))\n",
    "print(glob)"
   ]
  },
  {
   "cell_type": "code",
   "execution_count": 35,
   "id": "80679fd8",
   "metadata": {},
   "outputs": [
    {
     "name": "stdout",
     "output_type": "stream",
     "text": [
      "9\n"
     ]
    }
   ],
   "source": [
    "print((lambda x: x * x)(3))"
   ]
  },
  {
   "cell_type": "code",
   "execution_count": 36,
   "id": "5b232bc7",
   "metadata": {},
   "outputs": [
    {
     "name": "stdout",
     "output_type": "stream",
     "text": [
      "내 이름은 Default\n",
      "내 이름은 홍길동\n",
      "내 이름은 홍길동\n"
     ]
    }
   ],
   "source": [
    "class Person:\n",
    "    name = \"Default\"\n",
    "    \n",
    "    def personPrint(self):\n",
    "        print(\"내 이름은 {0}\".format(self.name))\n",
    "        \n",
    "p1 = Person()\n",
    "p1.personPrint()\n",
    "\n",
    "p1.name = \"홍길동\"\n",
    "p1.personPrint()\n",
    "Person.personPrint(p1)"
   ]
  },
  {
   "cell_type": "code",
   "execution_count": 40,
   "id": "55ad4889",
   "metadata": {},
   "outputs": [
    {
     "name": "stdout",
     "output_type": "stream",
     "text": [
      "3\n",
      "7\n",
      "33\n"
     ]
    }
   ],
   "source": [
    "class Test:\n",
    "    test1 = 3\n",
    "    _test2 = 7\n",
    "    __test3 = 33\n",
    "    \n",
    "    def testPrint(self):\n",
    "        print(self.__test3)\n",
    "    \n",
    "test = Test()\n",
    "\n",
    "print(test.test1)\n",
    "print(test._test2)\n",
    "test.testPrint()"
   ]
  },
  {
   "cell_type": "code",
   "execution_count": 41,
   "id": "991434cb",
   "metadata": {},
   "outputs": [
    {
     "name": "stdout",
     "output_type": "stream",
     "text": [
      "{'name': '고고싱', 'age': 77}\n"
     ]
    }
   ],
   "source": [
    "class Person:\n",
    "    def __init__(self, name, age):\n",
    "        self.name = name\n",
    "        self.age = age\n",
    "        \n",
    "    def print(self):\n",
    "        print(\"이름은 {0}, 나이는 {1}\".format(self.name, self.age))\n",
    "        \n",
    "p = Person(\"고고싱\", 77)\n",
    "\n",
    "print(p.__dict__)"
   ]
  },
  {
   "cell_type": "code",
   "execution_count": 42,
   "id": "5bf4d6d5",
   "metadata": {},
   "outputs": [
    {
     "name": "stdout",
     "output_type": "stream",
     "text": [
      "{'name': '고고싱', 'age': 33, 'major': '물리학'}\n"
     ]
    }
   ],
   "source": [
    "class Student(Person):\n",
    "    def __init__(self, name, age, major):\n",
    "        super(Student, self).__init__(name, age)\n",
    "        self.major = major\n",
    "        \n",
    "    def printStudent(self):\n",
    "        print(\"Student - name: {0}, age: {1}, major: {2}\".format(self.name, self.age, self.major))\n",
    "        \n",
    "s = Student(\"고고싱\", 33, \"물리학\")\n",
    "\n",
    "print(s.__dict__)"
   ]
  },
  {
   "cell_type": "code",
   "execution_count": null,
   "id": "10672d70",
   "metadata": {},
   "outputs": [],
   "source": []
  }
 ],
 "metadata": {
  "kernelspec": {
   "display_name": "Python 3 (ipykernel)",
   "language": "python",
   "name": "python3"
  },
  "language_info": {
   "codemirror_mode": {
    "name": "ipython",
    "version": 3
   },
   "file_extension": ".py",
   "mimetype": "text/x-python",
   "name": "python",
   "nbconvert_exporter": "python",
   "pygments_lexer": "ipython3",
   "version": "3.9.12"
  }
 },
 "nbformat": 4,
 "nbformat_minor": 5
}
